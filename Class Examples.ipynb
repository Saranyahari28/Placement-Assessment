{
 "cells": [
  {
   "cell_type": "markdown",
   "id": "aa1123da",
   "metadata": {},
   "source": [
    "Abstract Class:\n",
    "An abstract class can be considered as a blueprint for other classes. It allows you to create a set of methods that must\n",
    "be created within any child classes built from the abstract class. A class which contains one or more abstract methods is \n",
    "called an abstract class. An abstract method is a method that has a declaration but does not have an implementation. \n",
    "While we are designing large functional units we use an abstract class. When we want to provide a common interface for \n",
    "different implementations of a component, we use an abstract class. "
   ]
  },
  {
   "cell_type": "code",
   "execution_count": 1,
   "id": "d11a730d",
   "metadata": {},
   "outputs": [
    {
     "name": "stdout",
     "output_type": "stream",
     "text": [
      "I have 3 sides\n",
      "I have 4 sides\n",
      "I have 5 sides\n",
      "I have 6 sides\n"
     ]
    }
   ],
   "source": [
    "# Python program showing\n",
    "# abstract base class work\n",
    " \n",
    "from abc import ABC, abstractmethod\n",
    " \n",
    "class Polygon(ABC):\n",
    " \n",
    "    @abstractmethod\n",
    "    def noofsides(self):\n",
    "        pass\n",
    " \n",
    "class Triangle(Polygon):\n",
    " \n",
    "    # overriding abstract method\n",
    "    def noofsides(self):\n",
    "        print(\"I have 3 sides\")\n",
    " \n",
    "class Pentagon(Polygon):\n",
    "    # overriding abstract method\n",
    "    def noofsides(self):\n",
    "        print(\"I have 5 sides\")\n",
    " \n",
    "class Hexagon(Polygon):\n",
    " \n",
    "    # overriding abstract method\n",
    "    def noofsides(self):\n",
    "        print(\"I have 6 sides\")\n",
    " \n",
    "class Quadrilateral(Polygon):\n",
    " \n",
    "    # overriding abstract method\n",
    "    def noofsides(self):\n",
    "        print(\"I have 4 sides\")\n",
    " \n",
    "# Driver code\n",
    "R = Triangle()\n",
    "R.noofsides()\n",
    " \n",
    "K = Quadrilateral()\n",
    "K.noofsides()\n",
    " \n",
    "R = Pentagon()\n",
    "R.noofsides()\n",
    "\n",
    "K = Hexagon()\n",
    "K.noofsides()"
   ]
  },
  {
   "cell_type": "markdown",
   "id": "3becb849",
   "metadata": {},
   "source": [
    "Multiple Inheritance\n",
    "When a class is derived from more than one base class it is called multiple Inheritance.\n",
    "The derived class inherits all the features of the base case."
   ]
  },
  {
   "cell_type": "code",
   "execution_count": 2,
   "id": "1387c304",
   "metadata": {},
   "outputs": [
    {
     "name": "stdout",
     "output_type": "stream",
     "text": [
      "In Class4\n",
      "In Class2\n",
      "In Class3\n",
      "In Class1\n"
     ]
    }
   ],
   "source": [
    "\n",
    "# Python Program to depict multiple inheritance\n",
    "# when every class defines the same method\n",
    "class Class1:\n",
    "    def m(self):\n",
    "        print(\"In Class1\")\n",
    "       \n",
    "class Class2(Class1):\n",
    "    def m(self):\n",
    "        print(\"In Class2\")\n",
    " \n",
    "class Class3(Class1):\n",
    "    def m(self):\n",
    "         print(\"In Class3\")    \n",
    "     \n",
    "class Class4(Class2, Class3):\n",
    "    def m(self):\n",
    "        print(\"In Class4\")  \n",
    " \n",
    "obj = Class4()\n",
    "obj.m()\n",
    " \n",
    "Class2.m(obj)\n",
    "Class3.m(obj)\n",
    "Class1.m(obj)"
   ]
  },
  {
   "cell_type": "markdown",
   "id": "6f64866f",
   "metadata": {},
   "source": [
    "Decorators are a very powerful and useful tool in Python since it allows programmers to modify the behaviour of a function or class\n",
    "Decorators allow us to wrap another function in order to extend the behaviour of the wrapped function, without permanently \n",
    "modifying it."
   ]
  },
  {
   "cell_type": "code",
   "execution_count": 3,
   "id": "69f7728b",
   "metadata": {},
   "outputs": [
    {
     "name": "stdout",
     "output_type": "stream",
     "text": [
      "HI, I AM CREATED BY A FUNCTION PASSED AS AN ARGUMENT.\n",
      "hi, i am created by a function passed as an argument.\n"
     ]
    }
   ],
   "source": [
    "# Python program to illustrate functions\n",
    "# can be passed as arguments to other functions\n",
    "def shout(text):\n",
    "    return text.upper()\n",
    " \n",
    "def whisper(text):\n",
    "    return text.lower()\n",
    " \n",
    "def greet(func):\n",
    "    # storing the function in a variable\n",
    "    greeting = func(\"\"\"Hi, I am created by a function passed as an argument.\"\"\")\n",
    "    print (greeting)\n",
    " \n",
    "greet(shout)\n",
    "greet(whisper)"
   ]
  },
  {
   "cell_type": "code",
   "execution_count": null,
   "id": "c284eb8d",
   "metadata": {},
   "outputs": [],
   "source": []
  }
 ],
 "metadata": {
  "kernelspec": {
   "display_name": "Python 3",
   "language": "python",
   "name": "python3"
  },
  "language_info": {
   "codemirror_mode": {
    "name": "ipython",
    "version": 3
   },
   "file_extension": ".py",
   "mimetype": "text/x-python",
   "name": "python",
   "nbconvert_exporter": "python",
   "pygments_lexer": "ipython3",
   "version": "3.8.8"
  }
 },
 "nbformat": 4,
 "nbformat_minor": 5
}
