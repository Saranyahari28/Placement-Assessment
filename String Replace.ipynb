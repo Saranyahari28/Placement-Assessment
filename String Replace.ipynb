{
 "cells": [
  {
   "cell_type": "code",
   "execution_count": 1,
   "id": "0c4b3866",
   "metadata": {},
   "outputs": [
    {
     "name": "stdout",
     "output_type": "stream",
     "text": [
      "Text replaced\n"
     ]
    }
   ],
   "source": [
    "# creating a variable and storing the text\n",
    "# that we want to search\n",
    "search_text = \"placement\"\n",
    "  \n",
    "# creating a variable and storing the text\n",
    "# that we want to add\n",
    "replace_text = \"screening\"\n",
    "\n",
    "# Opening our text file in read only\n",
    "# mode using the open() function\n",
    "with open(r'C:/Users/haris/OneDrive/Desktop/Ineuron Assignment/Assignment project/example.txt', 'r') as file:\n",
    "  \n",
    "    # Reading the content of the file\n",
    "    # using the read() function and storing\n",
    "    # them in a new variable\n",
    "    data = file.read()\n",
    "  \n",
    "    # Searching and replacing the text\n",
    "    # using the replace() function\n",
    "    data = data.replace(search_text, replace_text)\n",
    "  \n",
    "# Opening our text file in write only\n",
    "# mode to write the replaced content\n",
    "with open(r'C:/Users/haris/OneDrive/Desktop/Ineuron Assignment/Assignment project/example.txt', 'w') as file:\n",
    "  \n",
    "    # Writing the replaced data in our\n",
    "    # text file\n",
    "    file.write(data)\n",
    "  \n",
    "# Printing Text replaced\n",
    "print(\"Text replaced\")"
   ]
  },
  {
   "cell_type": "code",
   "execution_count": null,
   "id": "5f9fe285",
   "metadata": {},
   "outputs": [],
   "source": []
  }
 ],
 "metadata": {
  "kernelspec": {
   "display_name": "Python 3",
   "language": "python",
   "name": "python3"
  },
  "language_info": {
   "codemirror_mode": {
    "name": "ipython",
    "version": 3
   },
   "file_extension": ".py",
   "mimetype": "text/x-python",
   "name": "python",
   "nbconvert_exporter": "python",
   "pygments_lexer": "ipython3",
   "version": "3.8.8"
  }
 },
 "nbformat": 4,
 "nbformat_minor": 5
}
